{
 "cells": [
  {
   "cell_type": "code",
   "execution_count": 3,
   "metadata": {},
   "outputs": [
    {
     "name": "stdout",
     "output_type": "stream",
     "text": [
      "Collecting tscribe\n",
      "  Using cached tscribe-1.3.1-py3-none-any.whl (7.2 kB)\n",
      "Collecting python-docx\n",
      "  Using cached python-docx-0.8.10.tar.gz (5.5 MB)\n",
      "Collecting webvtt-py\n",
      "  Using cached webvtt_py-0.4.5-py3-none-any.whl (16 kB)\n",
      "Requirement already satisfied: pandas in /opt/anaconda3/lib/python3.7/site-packages (from tscribe) (1.0.1)\n",
      "Requirement already satisfied: matplotlib in /opt/anaconda3/lib/python3.7/site-packages (from tscribe) (3.1.3)\n",
      "Requirement already satisfied: lxml>=2.3.2 in /opt/anaconda3/lib/python3.7/site-packages (from python-docx->tscribe) (4.5.0)\n",
      "Collecting docopt\n",
      "  Using cached docopt-0.6.2.tar.gz (25 kB)\n",
      "Requirement already satisfied: numpy>=1.13.3 in /opt/anaconda3/lib/python3.7/site-packages (from pandas->tscribe) (1.18.1)\n",
      "Requirement already satisfied: python-dateutil>=2.6.1 in /opt/anaconda3/lib/python3.7/site-packages (from pandas->tscribe) (2.8.1)\n",
      "Requirement already satisfied: pytz>=2017.2 in /opt/anaconda3/lib/python3.7/site-packages (from pandas->tscribe) (2019.3)\n",
      "Requirement already satisfied: kiwisolver>=1.0.1 in /opt/anaconda3/lib/python3.7/site-packages (from matplotlib->tscribe) (1.1.0)\n",
      "Requirement already satisfied: pyparsing!=2.0.4,!=2.1.2,!=2.1.6,>=2.0.1 in /opt/anaconda3/lib/python3.7/site-packages (from matplotlib->tscribe) (2.4.6)\n",
      "Requirement already satisfied: cycler>=0.10 in /opt/anaconda3/lib/python3.7/site-packages (from matplotlib->tscribe) (0.10.0)\n",
      "Requirement already satisfied: six>=1.5 in /opt/anaconda3/lib/python3.7/site-packages (from python-dateutil>=2.6.1->pandas->tscribe) (1.14.0)\n",
      "Requirement already satisfied: setuptools in /opt/anaconda3/lib/python3.7/site-packages (from kiwisolver>=1.0.1->matplotlib->tscribe) (46.0.0.post20200309)\n",
      "Building wheels for collected packages: python-docx, docopt\n",
      "  Building wheel for python-docx (setup.py) ... \u001b[?25ldone\n",
      "\u001b[?25h  Created wheel for python-docx: filename=python_docx-0.8.10-py3-none-any.whl size=184489 sha256=4f6ec79b3a0dbb4b5c4929cc66e2d346a73035bf01010698dca90441ee4bdc85\n",
      "  Stored in directory: /Users/chantalrabay/Library/Caches/pip/wheels/75/c6/69/05491f32dc052cd70476b65f5bf7082a9b274045f6b001b821\n",
      "  Building wheel for docopt (setup.py) ... \u001b[?25ldone\n",
      "\u001b[?25h  Created wheel for docopt: filename=docopt-0.6.2-py2.py3-none-any.whl size=13704 sha256=dc3f7cbab799278f02ada5b60dbaf7e06ad58180cf3e3bfedd0e991e3732a898\n",
      "  Stored in directory: /Users/chantalrabay/Library/Caches/pip/wheels/72/b0/3f/1d95f96ff986c7dfffe46ce2be4062f38ebd04b506c77c81b9\n",
      "Successfully built python-docx docopt\n",
      "Installing collected packages: python-docx, docopt, webvtt-py, tscribe\n",
      "Successfully installed docopt-0.6.2 python-docx-0.8.10 tscribe-1.3.1 webvtt-py-0.4.5\n"
     ]
    }
   ],
   "source": [
    "# ! pip install tscribe"
   ]
  },
  {
   "cell_type": "code",
   "execution_count": 4,
   "metadata": {},
   "outputs": [],
   "source": [
    "import tscribe"
   ]
  },
  {
   "cell_type": "code",
   "execution_count": 5,
   "metadata": {},
   "outputs": [
    {
     "name": "stdout",
     "output_type": "stream",
     "text": [
      "jenks_transcript.docx written in 4.57 seconds.\n"
     ]
    },
    {
     "data": {
      "text/plain": [
       "<Figure size 432x288 with 0 Axes>"
      ]
     },
     "metadata": {},
     "output_type": "display_data"
    }
   ],
   "source": [
    "tscribe.write(\"input.json\", format=\"docx\", save_as=\"jenks_transcript.docx\")"
   ]
  },
  {
   "cell_type": "code",
   "execution_count": 6,
   "metadata": {},
   "outputs": [
    {
     "name": "stdout",
     "output_type": "stream",
     "text": [
      "jenks_transcript.csv written in 0.75 seconds.\n"
     ]
    }
   ],
   "source": [
    "tscribe.write(\"input.json\", format=\"csv\", save_as=\"jenks_transcript.csv\")"
   ]
  },
  {
   "cell_type": "code",
   "execution_count": 60,
   "metadata": {},
   "outputs": [
    {
     "name": "stdout",
     "output_type": "stream",
     "text": [
      "[' So is that you need to', ' know.', ' So the first question is', ' \"so with only the information that the patient has given you', \",  how would you kind of formulate the case? Like in your own words? What would you say? The patient's condition is what would be your recommended management and things like that.\"]\n",
      "[' \"Okay', \",  so she's\", ',  uh', \",  forget her age. But she's a young\", ',  otherwise healthy', ',  a woman that has', ' \"officially has a diagnosis of high blood pressure', ',  hypertension', ',  just based on', ' \"two elevated readings', ', ', ' \"you know', ', ', ' over', ' a two week period of time.', ' \"What I generally do because about 20% of the population has high blood pressure only and clinic as I generally would ask her to Do you know', ',  a couple things Either toe', ' \"purchase a blood pressure machine on', ',  and I usually just click on Amazon', ',  and I just say', ',  Hey', ',  you know that you can buy these for 40 $50 ask her to keep a blood pressure log', ', ', \" or the other option is to do an ambulatory blood pressure like a 24 hour ambulatory blood person. I don't generally do that just because I think it's a little bit easier\", \" for the patient of purchase a blood pressure machine as long as it's affordable. And then I would ask her I usually give him two options. I\", ' \"say you can', ',  you know', ', ', ' by blood pressure machine.', ' \"Keep a log', ',  checking twice daily for a week. And then either my chart me the results. Or we can schedule a follow up with the nurse. You bring in your blood pressure log on', ',  and then she would usually bring it to me. And I kind of review it and talk with the patient about', ',  you know', ',  the findings']\n",
      "[' \"would definitely go into some additional investigation before just Yeah', ', ', ' okay.', \" Are there any medical therapies prescribed at this time? Are not I think I'd\"]\n",
      "[' \"wait. Just you know', \",  I think if the diagnosis is still unclear whether it's true hypertension or white coat hypertension\", ',  I think']\n",
      "[' way.', ' \"So what factors are relevant for determining this kind of treatment plan? You said you mentioned ages that', ',  like the main']\n",
      "[' \"Well', ',  yeah', ',  So the you know', ',  with the new', ' \"Yeah', \",  So it's a little bit\", ', ', ' \"you know', ',  with the new blood pressure guidelines', ',  you know her', ' \"The guidelines air much more stringent on who has high blood pressure and who doesn\\'t? But you know the guidelines', ',  you know', \",  recommending and again they're only guidelines\", ',  so we', ' \"can use their own discretion of all of them. They don\\'t say everyone with high blood pressure. It needs to be on a medication. You know', ',  the general recommendations would be', ' \"trying dietary changes', ',  if if needed', ',  like the dash diet', ',  exercise', ',  weight loss', ',  if applicability. Things like that', ', ', ' \"Um', ', ', ' \"and you can try that prior to medication and a lot of times a patient', \",  I'll say\", \",  I don't really want to start in the medication. Are there other things I can try? And that's where you talk about those things.\", ' \"Now', ',  if you know', ',  if it was someone you know', \",  let's say it was like a 40 year old woman and she didn't have ah\", ',  significant. Well', \",  she didn't know where family history\", ',  But', ',  you know', ',  if she said', ',  yeah', ',  both my parents have high blood pressure. All my siblings do my instant uncles', ',  and you may say', ',  Well', \",  there's\", ', ', ' \"I may say', ',  you know', \",  there is much more likely some genetic component that may be more difficult to control with lifestyle modifications doesn't mean you wouldn't\", ' \"I would give her some time to try those things', ',  but I would be more inclined to just start something earlier. I think']\n",
      "[' that makes sense.', ' \"Um', ',  so', \" did you find this person's ancestry results in interesting or relevant to this case at all?\"]\n",
      "[' \"Um', ', ', ' \"no. I mean that I don\\'t really have a whole lot of experience', ',  even with', ' kind of that health components of these. These genetic tests where I would', ' \"I would make', ',  like', ',  clinical decision', ' \"decisions off of them because it\\'s kind of tough to interpret. Well', \",  you've got\", ', ', ' \"You know', ', ', ' \"you have a genetic predisposition for something', ',  you know? How strong is it? Because our knowledge in this area', ',  you know', ',  there may be some genetic mutations that', ' \"predispose you toe high blood pressure', ',  for instance', \",  but it's in 5% of people\", \",  or it's to such a minor degree that it's not clinically relevant. So yeah\", \",  I wouldn't\", \" I wouldn't make any medical decisions off of it.\"]\n",
      "[' Okay.', ' \"Do you think genetic ancestry testing is useful for treating hypertension? In any case', ', ', ' \"I wouldn\\'t Yeah', ', ', ' \"went up', ', ']\n",
      "[' \"I think', \",  for the reason. Those reasons just cause I don't\", ',  you know', ',  um', ', ', ' \"you know', ',  they', ' \"you know', ',  Even if someone', ' \"has a would have a genetic predisposition for something', ', ', ' it would be important to know', ' \"you know', ', ', ' \"the clinical relevance of that. So if you know if someone has ah', ', ', ' \"you know', ',  ah', ',  genetic mutation that increases the risk for cancer', \",  for instance. But it's it increases the risk from one in 1000 to 200\", ', 000 that may not be clinically relevant', ',  or', ', ', ' \"you know', ',  if if a genetic mutation would increase', ' \"their risk for high blood pressure. But it\\'s like', ', ', ' \"you know', \",  it's a week association that you may say\", ',  Well', ',  that this may not even be playing a part.', ' \"You know', ',  the opposite example would be like', ', ', ' \"you know', \",  a Bracha mutation is faras breast or ovarian cancer. We know that's a very strong correlation and that the risk of someone getting cancer is\", ',  um', ',  you know', \",  many times higher than someone without a mutation. So you would take those more seriously and I just wouldn't know how to interpret the results of\", ',  like', ',  a 23 me test.']\n",
      "[' \"Yeah', ',  so', ',  like that. So if this person', ',  for instance', \",  came into your office and they didn't have any of the health information\", ',  but they just had the ancestry information. You would', ' not']\n",
      "[' \"that I would just tell him. I don\\'t know how to interpret this because I don\\'t have enough enough information about', ',  you know', ',  the kind of the relative risk of these mutations.']\n",
      "[' \"Okay', ', ', ' Do you think genetic ancestry currently has or will ever have clinical relevance for the diagnosis of any other diseases', ' other than like like I', \" don't I don't\"]\n",
      "[' \"know enough about it. I would say', ',  probably at some point. I mean', ',  they may be doing', ' \"if they don\\'t already', ',  they may be doing things like bracket testing', ',  and', ', ', ' \"um', ', ', ' \"I\\'m blanking on it now', \",  but there's\", ',  you know', \",  there's some genes that increase your risk\"]\n",
      "[' for colon']\n",
      "[' \"cancer', ',  and so they may be doing those things now', ',  and that would actually be', ' \"be helpful. You know', ',  one of the problems of bracket testing for a while was that it was so', ',  so expensive that', ',  you know', ', ', ' \"practitioners weren\\'t ordering that they were referring to a genetics counselor', ',  you know', \",  because they didn't want the patient gets stuck with the bill. But if some of these\", ', ', ' \"if some of these other other companies are able to do it and it\\'s It\\'s like', ',  well validated their methodology that I think it would be really beneficial because it would increase the reach of people that get the screening.']\n",
      "[' \"Yeah. What about what about the ancestry testing in terms of like where persons ancestors come from. So', ',  like', ',  this woman had', ',  like', \",  15% African ancestry. Do you think that that's relevant at all or would be relevant? Any diagnosing any diseases?\", ' \"Um', ',  I mean', ',  I think']\n",
      "[' \"maybe', ', ', ' \"like some select I mean you', ',  you know', ',  you', ' \"you know', \",  someone's\", ',  um', ' \"you know', ',  has', ',  ah', ',  a lot of African lineage or', ', ', ' \"you know', ',  some', ' \"ethnic Asian groups', ',  you know', \",  they're at an increased risk for\", ',  like', ',  fallacy me and sickle cell and things like that. That that may be good to know. Um', ', ', ' \"you know', ',  I think it gets murkier', ',  like in some other', ' \"areas', ',  like', ',  you know', ', ', ' \"you know', ',  like being native American', ',  you have an increased risk for alcoholism. Is that genetic', \",  or is it environmental? I don't think I don't. It's probably a mix. And I think some of those\", ', ', ' \"um', ',  mawr', ',  um', ' \"less concrete diseases may be it may be less helpful', ', ', ' but certainly if someone you know', ' \"I said', ',  Hey', ',  I did one of these tests', \",  and I'm on asking asking Ozzy June\"]\n",
      "[' \"right. And', ', ']\n",
      "spk_0 spk_0 ['96', '00:08:53', '00:08:57', 'spk_0', '\"um', ' you know', ' are they at some risk for some', ' you know', ' some', ' uh\"']\n"
     ]
    }
   ],
   "source": [
    "# Open a .csv file \n",
    "# Combine all rows with same speaker \n",
    "# When speaker changes, create new line, start new list \n",
    "# Export to .txt file \n",
    "\n",
    "import csv\n",
    "import re\n",
    "\n",
    "filename = \"jenks_transcript.csv\"\n",
    "new_txt_file = open(\"jenks_transcript.txt\", \"w\")\n",
    "\n",
    "\n",
    "old_speaker = \"speaker\"\n",
    "new_speaker = \"\"\n",
    "_list = []\n",
    "with open(filename, \"r\") as f: \n",
    "    for line in f:\n",
    "        items = line.strip(\"\\n\").split(\",\")\n",
    "        #print(items)\n",
    "        \n",
    "        if items[3] != \"speaker\":\n",
    "            #print(items)\n",
    "            new_speaker = items[3]\n",
    "            \n",
    "            if new_speaker == old_speaker: \n",
    "                #print(items, len(items))\n",
    "                for i in range(4, len(items)):\n",
    "                    if i == 4: \n",
    "                        _list.append(\" \" + items[4])\n",
    "                    else: \n",
    "                        _list.append(\", \" + items[i])\n",
    "                \n",
    "            else:\n",
    "                if len(_list) > 0: \n",
    "                    new_txt_file.writelines(old_speaker + \":\")\n",
    "                    _list = [x.strip('\"') for x in _list]\n",
    "                    _list = list(filter(lambda x: x != \"\", _list))\n",
    "\n",
    "                    new_txt_file.writelines(_list)\n",
    "                    new_txt_file.writelines(\"\\n\")\n",
    "                    new_txt_file.writelines(\"\\n\")\n",
    "                    print(_list)\n",
    "\n",
    "\n",
    "                _list = []\n",
    "                for i in range(4, len(items)):\n",
    "                    if i == 4: \n",
    "                        _list.append(\" \" + items[4])\n",
    "                    else: \n",
    "                        _list.append(\", \" + items[i])\n",
    "                        \n",
    "                old_speaker = new_speaker\n",
    "                new_speaker = items[3]\n",
    "    \n",
    "    print(new_speaker, old_speaker, items)\n",
    "    new_txt_file.writelines(new_speaker + \" : \")\n",
    "    _list = [x.strip('\"') for x in _list]\n",
    "    _list = list(filter(lambda x: x != \"\", _list))\n",
    "    new_txt_file.writelines(_list)\n",
    "                \n",
    "new_txt_file.close()"
   ]
  },
  {
   "cell_type": "code",
   "execution_count": null,
   "metadata": {},
   "outputs": [],
   "source": []
  },
  {
   "cell_type": "code",
   "execution_count": null,
   "metadata": {},
   "outputs": [],
   "source": []
  },
  {
   "cell_type": "code",
   "execution_count": null,
   "metadata": {},
   "outputs": [],
   "source": []
  }
 ],
 "metadata": {
  "kernelspec": {
   "display_name": "Python 3",
   "language": "python",
   "name": "python3"
  },
  "language_info": {
   "codemirror_mode": {
    "name": "ipython",
    "version": 3
   },
   "file_extension": ".py",
   "mimetype": "text/x-python",
   "name": "python",
   "nbconvert_exporter": "python",
   "pygments_lexer": "ipython3",
   "version": "3.7.6"
  }
 },
 "nbformat": 4,
 "nbformat_minor": 4
}
